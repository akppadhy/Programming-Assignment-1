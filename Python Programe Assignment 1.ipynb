{
 "cells": [
  {
   "cell_type": "code",
   "execution_count": 1,
   "id": "44acfce4-ff97-4b20-bb02-2828af565846",
   "metadata": {},
   "outputs": [
    {
     "name": "stdout",
     "output_type": "stream",
     "text": [
      "Hello Python\n"
     ]
    }
   ],
   "source": [
    "#1. Write a Python program to print 'Hello Python' ?\n",
    "\n",
    "print('Hello Python')"
   ]
  },
  {
   "cell_type": "code",
   "execution_count": 2,
   "id": "b2391b64-333b-4e17-a0d8-eee64a9c67a8",
   "metadata": {},
   "outputs": [
    {
     "name": "stdin",
     "output_type": "stream",
     "text": [
      "Enter the first number:  45\n",
      "Enter the second number:  34\n"
     ]
    },
    {
     "name": "stdout",
     "output_type": "stream",
     "text": [
      "addition of 45 and 34 is 79\n",
      "division of 45 by 34 is 1.3235294117647058\n"
     ]
    }
   ],
   "source": [
    "#2. Write a Python program to do arithmetic operations addition and division ?\n",
    "\n",
    "a = int(input('Enter the first number: '))\n",
    "b = int(input('Enter the second number: '))\n",
    "\n",
    "print(f'addition of {a} and {b} is {a + b}')\n",
    "print(f'division of {a} by {b} is {a/b}')"
   ]
  },
  {
   "cell_type": "code",
   "execution_count": 3,
   "id": "e04c473f-ef52-4a92-a01d-78035443be47",
   "metadata": {},
   "outputs": [
    {
     "name": "stdin",
     "output_type": "stream",
     "text": [
      "Enter the base of the triangle:  5\n",
      "Enter the height of the triangle:  7\n"
     ]
    },
    {
     "name": "stdout",
     "output_type": "stream",
     "text": [
      "The area of the triangle is: 17.5\n"
     ]
    }
   ],
   "source": [
    "#3. Write a Python program to find the area of a triangle ?\n",
    "\n",
    "base = float(input(\"Enter the base of the triangle: \"))\n",
    "height = float(input(\"Enter the height of the triangle: \"))\n",
    "\n",
    "area = 0.5 * base * height\n",
    "\n",
    "print(\"The area of the triangle is:\", area)"
   ]
  },
  {
   "cell_type": "code",
   "execution_count": 4,
   "id": "63b8c773-9f05-47d2-844b-d7156ec68f01",
   "metadata": {},
   "outputs": [
    {
     "name": "stdin",
     "output_type": "stream",
     "text": [
      "Enter First Number:  12\n",
      "Enter Second Number:  23\n"
     ]
    },
    {
     "name": "stdout",
     "output_type": "stream",
     "text": [
      "Before swapping ->  12 23\n",
      "After swapping ->  23 12\n"
     ]
    }
   ],
   "source": [
    "#4. Write a Python program to swap two variables ?\n",
    "\n",
    "num_1 = int(input(\"Enter First Number: \"))\n",
    "num_2 = int(input(\"Enter Second Number: \"))\n",
    "\n",
    "def swapNumbers(a,b):\n",
    "    temp = a\n",
    "    a = b\n",
    "    b = temp\n",
    "    return a,b\n",
    "\n",
    "print('Before swapping -> ',num_1, num_2)\n",
    "num_1, num_2 = swapNumbers(num_1, num_2)\n",
    "print('After swapping -> ',num_1,num_2)"
   ]
  },
  {
   "cell_type": "code",
   "execution_count": 5,
   "id": "f605f828-d682-4280-bbd3-73299a402970",
   "metadata": {},
   "outputs": [
    {
     "name": "stdout",
     "output_type": "stream",
     "text": [
      "56\n"
     ]
    }
   ],
   "source": [
    "#5. Write a Python program to generate a random number ?\n",
    "\n",
    "import random\n",
    "random_number = random.randint(0, 100)\n",
    "print(random_number)"
   ]
  },
  {
   "cell_type": "code",
   "execution_count": null,
   "id": "9085abef-2cc6-4bd2-872d-e3990f1943d2",
   "metadata": {},
   "outputs": [],
   "source": []
  }
 ],
 "metadata": {
  "kernelspec": {
   "display_name": "Python 3 (ipykernel)",
   "language": "python",
   "name": "python3"
  },
  "language_info": {
   "codemirror_mode": {
    "name": "ipython",
    "version": 3
   },
   "file_extension": ".py",
   "mimetype": "text/x-python",
   "name": "python",
   "nbconvert_exporter": "python",
   "pygments_lexer": "ipython3",
   "version": "3.10.6"
  }
 },
 "nbformat": 4,
 "nbformat_minor": 5
}
